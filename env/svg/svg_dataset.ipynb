{
 "cells": [
  {
   "cell_type": "markdown",
   "metadata": {},
   "source": [
    "From [the RLRF paper](https://arxiv.org/pdf/2505.20793)\n",
    "> We preprocess this data by rounding decimals to two\n",
    "significant figures, removing XML headers, and filtering out samples with excessively long URLs or\n",
    "embedded base64 images, which could lead the model to memorize irrelevant content"
   ]
  },
  {
   "cell_type": "code",
   "execution_count": 1,
   "metadata": {},
   "outputs": [
    {
     "data": {
      "text/plain": [
       "Dataset({\n",
       "    features: ['Filename', 'Svg'],\n",
       "    num_rows: 2169710\n",
       "})"
      ]
     },
     "execution_count": 1,
     "metadata": {},
     "output_type": "execute_result"
    }
   ],
   "source": [
    "from datasets import load_dataset, Dataset\n",
    "\n",
    "dataset = load_dataset(\"starvector/svg-stack\", split=\"train\")\n",
    "dataset"
   ]
  },
  {
   "cell_type": "code",
   "execution_count": 2,
   "metadata": {},
   "outputs": [
    {
     "data": {
      "text/plain": [
       "{'Filename': '0bf622d38312a560d831a6005ff2c326f7e7771d.svg',\n",
       " 'Svg': '<svg role=\"img\" viewBox=\"0 0 24 24\" xmlns=\"http://www.w3.org/2000/svg\"><path d=\"M10.040 0.041 C 6.371 0.422,3.109 2.637,1.500 5.840 C 0.240 8.348,0.055 11.425,1.007 14.060 C 2.191 17.338,5.083 19.881,8.580 20.719 C 9.519 20.944,9.850 20.980,10.980 20.980 C 12.084 20.980,12.503 20.937,13.327 20.744 L 13.714 20.653 13.944 21.025 C 15.161 22.991,16.605 23.910,18.600 23.988 C 20.479 24.061,21.924 23.365,22.806 21.961 C 23.276 21.212,23.600 20.091,23.600 19.211 L 23.600 19.000 22.821 19.000 L 22.042 19.000 22.018 19.110 C 21.925 19.547,21.677 20.009,21.410 20.244 C 20.810 20.770,19.746 20.760,18.954 20.219 C 18.632 19.999,18.210 19.563,17.859 19.088 L 17.602 18.740 17.751 18.620 C 19.502 17.209,20.737 15.306,21.281 13.180 C 21.542 12.159,21.580 11.817,21.579 10.500 C 21.578 9.482,21.567 9.277,21.488 8.824 C 21.314 7.824,21.063 6.989,20.685 6.160 C 19.206 2.912,16.117 0.642,12.432 0.098 C 11.940 0.025,10.517 -0.009,10.040 0.041 M12.141 2.179 C 14.575 2.576,16.010 4.246,16.558 7.320 C 16.706 8.147,16.765 8.874,16.788 10.120 C 16.829 12.434,16.628 13.982,16.093 15.450 C 16.015 15.665,15.937 15.849,15.920 15.860 C 15.904 15.870,15.754 15.694,15.588 15.469 C 15.185 14.924,14.864 14.577,14.468 14.259 C 13.859 13.771,13.284 13.484,12.549 13.302 C 10.844 12.880,8.911 13.199,7.610 14.117 L 7.320 14.322 7.642 14.965 C 7.935 15.549,7.973 15.606,8.052 15.583 C 8.523 15.448,8.658 15.426,9.040 15.426 C 9.554 15.426,9.855 15.498,10.340 15.738 C 10.888 16.008,11.393 16.488,11.872 17.196 C 12.228 17.721,12.749 18.664,12.707 18.706 C 12.697 18.716,12.520 18.760,12.314 18.804 C 11.773 18.920,10.692 18.949,10.056 18.865 C 7.822 18.569,6.407 17.242,5.721 14.800 C 5.389 13.617,5.240 12.298,5.240 10.540 C 5.240 7.030,5.896 4.751,7.289 3.416 C 8.115 2.624,9.023 2.249,10.460 2.104 C 10.757 2.074,11.777 2.119,12.141 2.179 \" stroke=\"none\" fill=\"black\" fill-rule=\"evenodd\"></path></svg>'}"
      ]
     },
     "execution_count": 2,
     "metadata": {},
     "output_type": "execute_result"
    }
   ],
   "source": [
    "dataset[1230]"
   ]
  },
  {
   "cell_type": "code",
   "execution_count": 3,
   "metadata": {},
   "outputs": [
    {
     "data": {
      "image/jpeg": "[encoded data removed]",
      "image/png": "[encoded data removed]",
      "text/plain": [
       "<PIL.PngImagePlugin.PngImageFile image mode=RGB size=24x24>"
      ]
     },
     "execution_count": 3,
     "metadata": {},
     "output_type": "execute_result"
    }
   ],
   "source": [
    "from PIL import Image\n",
    "import os\n",
    "import io\n",
    "# stupid cairo\n",
    "os.environ[\"DYLD_LIBRARY_PATH\"] = \"/opt/homebrew/lib:\" + os.environ.get(\"DYLD_LIBRARY_PATH\", \"\")\n",
    "\n",
    "from svg_rlrf_reward import rasterize_svg\n",
    "\n",
    "image_bytes, tree, (width, height) = rasterize_svg(dataset[1230][\"Svg\"])\n",
    "Image.open(io.BytesIO(image_bytes))"
   ]
  },
  {
   "cell_type": "code",
   "execution_count": 4,
   "metadata": {},
   "outputs": [
    {
     "name": "stdout",
     "output_type": "stream",
     "text": [
      "Train size: 1952739\n",
      "Test size: 216971\n"
     ]
    }
   ],
   "source": [
    "split_dataset = dataset.train_test_split(test_size=0.1, seed=42)\n",
    "train_dataset = split_dataset[\"train\"]\n",
    "test_dataset = split_dataset[\"test\"]\n",
    "\n",
    "print(f\"Train size: {len(train_dataset)}\")\n",
    "print(f\"Test size: {len(test_dataset)}\")\n",
    "\n",
    "def rasterize(example):\n",
    "    try:\n",
    "        img_bytes, tree, (width, height) = rasterize_svg(example[\"Svg\"])\n",
    "        return {\"image\": Image.open(io.BytesIO(img_bytes)), \"width\": width, \"height\": height}\n",
    "    except Exception:\n",
    "        return {\"image\": None, \"tree\": None, \"width\": None, \"height\": None}\n",
    "    \n",
    "subset = dataset.select(range(1000))\n",
    "subset = subset.map(rasterize, with_indices=False)"
   ]
  },
  {
   "cell_type": "code",
   "execution_count": 5,
   "metadata": {},
   "outputs": [
    {
     "data": {
      "image/jpeg": "[encoded data removed]",
      "image/png": "[encoded data removed]",
      "text/plain": [
       "<PIL.PngImagePlugin.PngImageFile image mode=RGB size=24x24>"
      ]
     },
     "execution_count": 5,
     "metadata": {},
     "output_type": "execute_result"
    }
   ],
   "source": [
    "subset[\"image\"][123]\n"
   ]
  },
  {
   "cell_type": "code",
   "execution_count": 6,
   "metadata": {},
   "outputs": [
    {
     "name": "stdout",
     "output_type": "stream",
     "text": [
      "775/1000 images rendered successfully\n"
     ]
    },
    {
     "data": {
      "text/plain": [
       "Dataset({\n",
       "    features: ['Filename', 'Svg', 'image', 'width', 'height'],\n",
       "    num_rows: 775\n",
       "})"
      ]
     },
     "execution_count": 6,
     "metadata": {},
     "output_type": "execute_result"
    }
   ],
   "source": [
    "subset = subset.filter(lambda x: x[\"image\"] is not None)\n",
    "print(f\"{len(subset)}/{1000} images rendered successfully\")\n",
    "subset"
   ]
  },
  {
   "cell_type": "code",
   "execution_count": null,
   "metadata": {},
   "outputs": [
    {
     "name": "stdout",
     "output_type": "stream",
     "text": [
      "Saved 916 bytes (48.59%) by optimizing\n"
     ]
    },
    {
     "data": {
      "application/vnd.jupyter.widget-view+json": {
       "model_id": "8d5d52f0314340139e4020990e6c8019",
       "version_major": 2,
       "version_minor": 0
      },
      "text/plain": [
       "Map (num_proc=8):   0%|          | 0/775 [00:00<?, ? examples/s]"
      ]
     },
     "metadata": {},
     "output_type": "display_data"
    },
    {
     "data": {
      "text/plain": [
       "Dataset({\n",
       "    features: ['Filename', 'Svg', 'image', 'width', 'height', 'meta'],\n",
       "    num_rows: 775\n",
       "})"
      ]
     },
     "execution_count": 14,
     "metadata": {},
     "output_type": "execute_result"
    }
   ],
   "source": [
    "import subprocess\n",
    "import tempfile\n",
    "import os\n",
    "\n",
    "from datasets import Value\n",
    "\n",
    "def svgo_batch(svg_texts, precision: int = 2, pretty: bool = False):\n",
    "    \"\"\"\n",
    "    Optimize a batch of SVGs by writing them to a temp directory and running svgo on the directory.\n",
    "    Returns a list of optimized SVG strings in the same order.\n",
    "    If the batch fails, runs on individual files so that only the bad files are excluded.\n",
    "    Uses the same input/output directories for individual files.\n",
    "    \"\"\"\n",
    "    def filename(i: int) -> str:\n",
    "        return f\"{i:06d}.svg\"\n",
    "\n",
    "    svgo_args = [\"--precision\", str(precision)]\n",
    "    if pretty:\n",
    "        svgo_args.append(\"--pretty\")\n",
    "\n",
    "    with tempfile.TemporaryDirectory() as tmpdir:\n",
    "        input_dir = os.path.join(tmpdir, \"input\")\n",
    "        output_dir = os.path.join(tmpdir, \"output\")\n",
    "        os.makedirs(input_dir, exist_ok=True)\n",
    "        os.makedirs(output_dir, exist_ok=True)\n",
    "        # Write each SVG to a file in the input directory\n",
    "        for i, svg in enumerate(svg_texts):\n",
    "            fname = filename(i)\n",
    "            with open(os.path.join(input_dir, fname), \"w\", encoding=\"utf-8\") as f:\n",
    "                f.write(svg)\n",
    "        # Run svgo on the directory\n",
    "\n",
    "        cmd = [\n",
    "            \"npx\", \"-y\", \"svgo\",\n",
    "            \"-f\", input_dir,\n",
    "            \"-o\", output_dir,\n",
    "            *svgo_args,\n",
    "        ]\n",
    "        proc = subprocess.run(cmd, stdout=subprocess.PIPE, stderr=subprocess.PIPE)\n",
    "        optimized_svgs = []\n",
    "        batch_failed = proc.returncode != 0\n",
    "        if batch_failed:\n",
    "            print(f\"SVGO on batch failed: {proc.stderr.decode('utf-8')}, included files: {[os.path.join(input_dir, x) for x in os.listdir(input_dir)]}\")\n",
    "            # Try to optimize each SVG individually, reusing the same input/output dirs\n",
    "            for i, svg in enumerate(svg_texts):\n",
    "                fname = filename(i)\n",
    "                input_path = os.path.join(input_dir, fname)\n",
    "                output_path = os.path.join(output_dir, fname)\n",
    "                single_cmd = [\n",
    "                    \"npx\", \"-y\", \"svgo\",\n",
    "                    \"-i\", input_path,\n",
    "                    \"-o\", output_path,\n",
    "                    *svgo_args,\n",
    "                ]\n",
    "                single_proc = subprocess.run(single_cmd, stdout=subprocess.PIPE, stderr=subprocess.PIPE)\n",
    "                if single_proc.returncode != 0 or not os.path.exists(output_path):\n",
    "                    print(\n",
    "                        f\"SVGO failed on single file {input_path}\\n\\n{svg_texts[i]}\\n\\n{single_proc.stderr.decode('utf-8')}\"\n",
    "                    )\n",
    "                    optimized_svgs.append(svg)\n",
    "                else:\n",
    "                    with open(output_path, \"r\", encoding=\"utf-8\") as f:\n",
    "                        optimized_svgs.append(f.read())\n",
    "        else:\n",
    "            # Read optimized SVGs in the same order using out_fnames\n",
    "            for i in range(len(svg_texts)):\n",
    "                out_path = os.path.join(output_dir, filename(i))\n",
    "                if not os.path.exists(out_path):\n",
    "                    print(f\"SVGO failed on {out_path}\")\n",
    "                    # If svgo failed to write output, fallback to original\n",
    "                    optimized_svgs.append(svg_texts[i])\n",
    "                else:\n",
    "                    with open(out_path, \"r\", encoding=\"utf-8\") as f:\n",
    "                        optimized_svgs.append(f.read())\n",
    "        return optimized_svgs\n",
    "\n",
    "original_svg = dataset[1230][\"Svg\"]\n",
    "optimized_svg = svgo_batch([original_svg])[0]\n",
    "print(f\"Saved {len(original_svg) - len(optimized_svg)} bytes ({((len(original_svg) - len(optimized_svg)) / len(original_svg) * 100):.2f}%) by optimizing\")\n",
    "\n",
    "def add_svg_sizes_batch(batch, **kwargs):\n",
    "    optimized_svgs = svgo_batch(batch[\"Svg\"], **kwargs)\n",
    "    metas = []\n",
    "    for original_svg, optimized_svg in zip(batch[\"Svg\"], optimized_svgs):\n",
    "        metas.append({\n",
    "            \"original_size\": len(original_svg),\n",
    "            \"optimized_size\": len(optimized_svg),\n",
    "            \"bytes_saved\": len(original_svg) - len(optimized_svg),\n",
    "            \"percent_saved\": ((len(original_svg) - len(optimized_svg)) / len(original_svg) * 100) if len(original_svg) > 0 else 0\n",
    "        })\n",
    "    return {\"Svg\": optimized_svgs, \"meta\": metas}\n",
    "\n",
    "features = subset.features.copy()\n",
    "features[\"meta\"] = {\n",
    "    \"original_size\": Value(\"int32\"),\n",
    "    \"optimized_size\": Value(\"int32\"),\n",
    "    \"bytes_saved\": Value(\"int32\"),\n",
    "    \"percent_saved\": Value(\"float32\"),\n",
    "}\n",
    "\n",
    "# Use batch mapping for speed, now using file-based batch optimization\n",
    "subset_optimized = subset.map(\n",
    "    add_svg_sizes_batch,\n",
    "    batched=True,\n",
    "    batch_size=16,\n",
    "    features=features,\n",
    "    num_proc=8,\n",
    ")\n",
    "subset_optimized\n"
   ]
  },
  {
   "cell_type": "code",
   "execution_count": 16,
   "metadata": {},
   "outputs": [
    {
     "data": {
      "text/plain": [
       "{'original_size': 1165,\n",
       " 'optimized_size': 419,\n",
       " 'bytes_saved': 746,\n",
       " 'percent_saved': 64.03433227539062}"
      ]
     },
     "execution_count": 16,
     "metadata": {},
     "output_type": "execute_result"
    }
   ],
   "source": [
    "subset_optimized[0][\"meta\"]"
   ]
  },
  {
   "cell_type": "code",
   "execution_count": 15,
   "metadata": {},
   "outputs": [
    {
     "name": "stdout",
     "output_type": "stream",
     "text": [
      "770/775 images are free of base64 images\n",
      "Examples with base64 images (showing up to 5):\n",
      "----------------------------------------------------------------------------------------------------\n",
      "Filename: eeb61ae6c3e61554d6b2808412dff90704f4ca10.svg\n",
      "SVG: <svg id=\"icon_thunderstorm_day\" xmlns=\"http://www.w3.org/2000/svg\" xmlns:xlink=\"http://www.w3.org/1999/xlink\" width=\"103\" height=\"69.031\" viewBox=\"0 0 103 69.031\">\n",
      "  <metadata><?xpacket begin=\"﻿\" id=\"W5M0MpCehiHzreSzNTczkc9d\"?>\n",
      "<x:xmpmeta xmlns:x=\"adobe:ns:meta/\" x:xmptk=\"Adobe XMP Core 5.6-c138 79.159824, 2016/09/14-01:09:01        \">\n",
      "   <rdf:RDF xmlns:rdf=\"http://www.w3.org/1999/02/22-rdf-syntax-ns#\">\n",
      "      <rdf:Description rdf:about=\"\"/>\n",
      "   </rdf:RDF>\n",
      "</x:xmpmeta>\n",
      "                                                                                                    \n",
      "                                                                                                    \n",
      "                                                                                                    \n",
      "                                                                                                    \n",
      "                                                                                                    \n",
      "                                                                                                    \n",
      "                                                                                                    \n",
      "                                                                                                    \n",
      "                                                                                                    \n",
      "                                                                                                    \n",
      "                                                                                                    \n",
      "                                                                                                    \n",
      "                                                                                                    \n",
      "                                                                                                    \n",
      "                                                                                                    \n",
      "                                                                                                    \n",
      "                                                                                                    \n",
      "                                                                                                    \n",
      "                                                                                                    \n",
      "                                                                                                    \n",
      "                           \n",
      "<?xpacket end=\"w\"?></metadata>\n",
      "<defs>\n",
      "    <style>\n",
      "      .cls-1 {\n",
      "        fill: #b8c7d8;\n",
      "        filter: url(#filter);\n",
      "      }\n",
      "\n",
      "      .cls-1, .cls-2, .cls-3 {\n",
      "        fill-rule: evenodd;\n",
      "      }\n",
      "\n",
      "      .cls-2 {\n",
      "        fill: #fff;\n",
      "        filter: url(#filter-2);\n",
      "      }\n",
      "\n",
      "      .cls-3 {\n",
      "        fill: #fcc02e;\n",
      "      }\n",
      "    </style>\n",
      "    <filter id=\"filter\" x=\"401.969\" y=\"409.969\" width=\"56.031\" height=\"36.5\" filterUnits=\"userSpaceOnUse\">\n",
      "      <feImage preserveAspectRatio=\"none\" x=\"401.969\" y=\"409.969\" width=\"56.031\" height=\"36.5\" result=\"image\" xlink:href=\"data:image/svg+xml;base64,PHN2ZyB4bWxucz0iaHR0cDovL3d3dy53My5vcmcvMjAwMC9zdmciIHhtbG5zOnhsaW5rPSJodHRwOi8vd3d3LnczLm9yZy8xOTk5L3hsaW5rIiB3aWR0aD0iNTYuMDMxIiBoZWlnaHQ9IjM2LjUiIHZpZXdCb3g9IjAgMCA1Ni4wMzEgMzYuNSI+CiAgPGRlZnM+CiAgICA8c3R5bGU+CiAgICAgIC5jbHMtMSB7CiAgICAgICAgb3BhY2l0eTogMC4yOwogICAgICAgIGZpbGw6IHVybCgjbGluZWFyLWdyYWRpZW50KTsKICAgICAgfQogICAgPC9zdHlsZT4KICAgIDxsaW5lYXJHcmFkaWVudCBpZD0ibGluZWFyLWdyYWRpZW50IiB4MT0iMjguMDE2IiB5MT0iMzYuNSIgeDI9IjI4LjAxNiIgZ3JhZGllbnRVbml0cz0idXNlclNwYWNlT25Vc2UiPgogICAgICA8c3RvcCBvZmZzZXQ9IjAiLz4KICAgICAgPHN0b3Agb2Zmc2V0PSIxIiBzdG9wLW9wYWNpdHk9IjAiLz4KICAgIDwvbGluZWFyR3JhZGllbnQ+CiAgPC9kZWZzPgogIDxyZWN0IGNsYXNzPSJjbHMtMSIgd2lkdGg9IjU2LjAzMSIgaGVpZ2h0PSIzNi41Ii8+Cjwvc3ZnPgo=\"/>\n",
      "      <feComposite result=\"composite\" operator=\"in\" in2=\"SourceGraphic\"/>\n",
      "      <feBlend result=\"blend\" mode=\"overlay\" in2=\"SourceGraphic\"/>\n",
      "    </filter>\n",
      "    <filter id=\"filter-2\" x=\"355\" y=\"411\" width=\"92\" height=\"68\" filterUnits=\"userSpaceOnUse\">\n",
      "      <feOffset result=\"offset\" dy=\"5\" in=\"SourceAlpha\"/>\n",
      "      <feGaussianBlur result=\"blur\" stdDeviation=\"3.162\"/>\n",
      "      <feFlood result=\"flood\" flood-opacity=\"0.15\"/>\n",
      "      <feComposite result=\"composite\" operator=\"in\" in2=\"blur\"/>\n",
      "      <feBlend result=\"blend\" in=\"SourceGraphic\"/>\n",
      "    </filter>\n",
      "  </defs>\n",
      "  <path id=\"cloud\" class=\"cls-1\" d=\"M414.31,446.458h34.818a9.925,9.925,0,0,0,8.865-9.809,9.659,9.659,0,0,0-7.5-9.5,19.316,19.316,0,0,0-18.949-17.171,18.967,18.967,0,0,0-16.232,9.2c-0.083,0-.166-0.025-0.25-0.025-7.226,0-13.084,6.267-13.084,13.654a13.634,13.634,0,0,0,12.329,13.655\" transform=\"translate(-355 -409.969)\"/>\n",
      "  <path id=\"cloud-2\" data-name=\"cloud\" class=\"cls-2\" d=\"M382.289,462h39.523a13.548,13.548,0,0,0,3.538-26.514,10.165,10.165,0,0,0-14.679-8.831,15.833,15.833,0,0,0-29.737,1.593A16.9,16.9,0,0,0,366,445.075C366,454.209,373.02,462,382.289,462\" transform=\"translate(-355 -409.969)\"/>\n",
      "  <path id=\"lightning\" class=\"cls-3\" d=\"M396.9,445.94l-4.943,13.722h7.723l-4.835,13.3,15.091-18.91-8.317-.181,2.9-7.748-7.615-.183h0Z\" transform=\"translate(-355 -409.969)\"/>\n",
      "</svg>\n",
      "\n",
      "----------------------------------------------------------------------------------------------------\n",
      "Filename: f91a434a63d08e813b95af4a7bf0f1e29288e450.svg\n",
      "SVG: <svg width=\"24\" height=\"25\" viewBox=\"0 0 24 25\" xmlns=\"http://www.w3.org/2000/svg\" xmlns:xlink=\"http://www.w3.org/1999/xlink\">\n",
      "<path d=\"M0 24.68H24V0.68H0V24.68Z\" fill=\"url(#pattern982)\"/>\n",
      "<defs>\n",
      "<pattern id=\"pattern982\" patternContentUnits=\"objectBoundingBox\" width=\"1\" height=\"1\">\n",
      "<use xlink:href=\"#image0\" transform=\"scale(0.015625)\"/>\n",
      "</pattern>\n",
      "<image id=\"image0\" width=\"24\" height=\"24\" xlink:href=\"data:image/png;base64,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\"/>\n",
      "</defs>\n",
      "</svg>\n",
      "\n",
      "----------------------------------------------------------------------------------------------------\n",
      "Filename: 072aee79a0ba81043efc1e39cb1792b3010a78c3.svg\n",
      "SVG: <svg width=\"150\" height=\"60\" xmlns=\"http://www.w3.org/2000/svg\" xmlns:xlink=\"http://www.w3.org/1999/xlink\">\n",
      " \n",
      " <g>\n",
      "  <title>background</title>\n",
      "  <rect fill=\"none\" id=\"canvas_background\" height=\"62\" width=\"152\" y=\"-1\" x=\"-1\"/>\n",
      "  <g display=\"none\" overflow=\"visible\" y=\"0\" x=\"0\" height=\"100%\" width=\"100%\" id=\"canvasGrid\">\n",
      "   <rect fill=\"url(#gridpattern)\" stroke-width=\"0\" y=\"0\" x=\"0\" height=\"100%\" width=\"100%\"/>\n",
      "  </g>\n",
      " </g>\n",
      " <g>\n",
      "  <title>Layer 1</title>\n",
      "  <image xlink:href=\"data:image/png;base64,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\" id=\"svg_1\" height=\"60\" width=\"150\" y=\"0\" x=\"0\"/>\n",
      " </g>\n",
      "</svg>\n",
      "\n",
      "----------------------------------------------------------------------------------------------------\n",
      "Filename: b33ae1eed4a4db0184f21b86cb3ca8c3dd4dc605.svg\n",
      "SVG: <svg xmlns=\"http://www.w3.org/2000/svg\" xmlns:xlink=\"http://www.w3.org/1999/xlink\" id=\"body_2\" width=\"267\" height=\"267\">\n",
      "\n",
      "<g transform=\"matrix(1 0 0 1 0 0)\">\n",
      "\t<g transform=\"matrix(1 0 0 1 0 0)\">\n",
      "        <path d=\"M0 0L0 267L267 267L267 0\" stroke=\"none\" fill=\"#FFFFFF\" fill-rule=\"evenodd\" />\n",
      "\t</g>\n",
      "    <image  x=\"0\" y=\"0\" xlink:href=\"data:image/png;base64,iVBORw0KGgoAAAANSUhEUgAAAQsAAAELCAIAAABBNzQFAAAACXBIWXMAAA7DAAAOwwHHb6hkAAAYNUlEQVR4nO2da3cVVZrH6wPYzgi+HElCSMCZ1yq20mqvgYAdiDprjTQofobhEsAQIEHQ6Z7V0zpyUZJwCYGckISmu9+gCGh3y0VxPogyIviyu8/U7dSps2+nLrvq2bvO/7/+ixXq1GXX3vuX53n2qXPiOBAEqVWHoHyinsIFi7p7IetFPYULFnX3QtaLegoXLOruzaIM7U+4Z84OSdIwS/tcoRJnK4WouzeLMjRbfYiWfoifRHFCS/tcIcrpW4KouzeL+GYHW6Lt/N3FX+KPknUIs1HRb4om8ScRttle6ZqKhoq6e7OIb78jmW2OZF6melV4fodjSXhpxUlkbbZOpcxTOlF3bxbxzXZE0zF+g/wPwo3CV2Xnz9Ak/lqWDkFcZU1VIlF3bxbxzXZEk0/9Q/JX+fPzbWjbJFkjLR2CuEqdr+WLunuzSNhsJ9nUT7ib8GfZq0nOnPAkNqrkGVu2qLs3i4Ttd7hf6vEdmD35Vx3Rb3T1SdK2ir+E+oS2SNdUNFTU3dvRqkb/U0/hgkXdvR2tavQ/9RQuWNTdC1kv6ilcsKi7F7Je1FO4YFF3L2S9qKdwwaLuXsh6UU/hgkXdvZD1op7CBUt7N+k6oeJCmXdLcmwJt1DQ5Upuefy6VZbGbmJ+yHwGLbsJD0lyrMY+SaKSL1eE6CZvKdLVR7JeS/LfVDsw13K42e9wjz9FR7W9a+ZYxRkUjU9yO8L28xdSXEJ4iKKvZB2YX061pauPFFtkP8te4jcmOYMjIUSxj+xGUjVYvUV9NlmTFO1U3EuSDtQ14kyTqixdfaTYIrwi3wD+pWgH4W7x/8r+5c8sa7DsVVkjFRfiD1F0uOyispYo7kVxKvWN51TCmWardPWRYoviVeFuqc7maCVE1jPRFv60srYJDxFeVHGP6pYz7Wx7Kl3DzUjPRDRWGvso+rmunNP1xNNCeAaHm7vCY9VnFt54kjbz+yRvm1BpG5ykl9SN1K7iJqcR0t5N0X9lnSjcnzlKsT/fZkc5t+L/lb2q2JKkGW1vjTmqbYNlG9teV30qxQDlkVNt6eqmDpE5PeaIMNCyc4aWVFl6O6vyMqrHUg1icSNOMGvLlPb+gjpN1FO4YFF3L2S9qKdwwaLuXsh6UU/hgkXdvZD1op7CBYu6eyHrRT2FC5bsbjV2X4aX+D2ZVsm2tD0w/yXUW5hztr2uRmUeu4SHKG6zypL1Av+SdgkvoWhS9LNsC3Msv1uSlqgvod7S9l4KlXDskrRB3edtT1XSTKVSkn6J78kf64imS7SDcHv0EtMGYav4FjqSGaC4HcU5U10izz7Rdr4H1J0gGwLhFZkf1CMlbHzbEZfdUTWl6Km6aBLItvDbFcMm+0HYBr49ba+V9rTJL5FnnyQtVG9RX7RtfwpPqN6SpA8LmZfmKGFPCfs3voXfLutrxQ+KYUiyv+J2okbyd53qEnn2iRqgbqGwzcwZZMOnHlP+EsJGJrxHWZOqpoQ9Jezf+BZ+u/Bn4Uuy/dUtaXtsktPmuYT60rJOrsf6IUn3Kg5RtF/RSPUoM1sSDk2Vxd+qrDdlW/i+S7JPqmFIcv7kuwmV4RbyXDpV98p2UN9C24YpNiYfmnpHERK/W9kW4bFO4hnMnKrt4fwAtG2V4ooyZb6E8PzCXm17TkUvyXZoe11+u3AfWTOErwrvrsoS9qlCwkOSnMdpN04dqPL7oYgrOg1yqiktXZzwPJkvWlWV3xVFXNGRhNmKSHt/QZ0mh0v2KiWqboUqI34WUU9qCDJMQmwgYpXy+xHKLuoJ0tmiHn0oqahnSkeKetChdKKeL50k6rGGMop64nSGqEcZyiXq6VN1UY8vpEHUk6i6oh5ZSJuop1IVRT2mkH5Rz6kKiXoooaJEPbMqIepBhIoV9fyyXNTDB5Uh6llmragHDipJ1BPNTlGPGlSqqKebbaIeL4hA1JPOHlGPFEQm6qlniaiHCaIU9ewzXtQDBNGLeg4aLOqhgUwR9Uw0UtSDAhkk6slopKgHBTJL1PPRMFEPB2SiqGelMdLYp+dfvjC/caE2OAfDWjy3cb46eLiaGTzvQjK94RwMa/G5l8+DEBiWmpgQvXiAEFi7KQnRjgcIgbUbhMCwymSEFIEHCIG1G4TAsMo0hBSEBwiBtZuAkOLwACGwdoMQGFa5bEIKxQOEwNoNQmBY5VIJKRoPEML47PrzaU3eZtMMQqpjfrqf2zB97uVp798k9vc8u34G2MRdHiEl4NFphCh4OLthZnZw6tsdP3+w96kHu59N5D1P3x9ec3HTiTPBqeTYkN94mQYhllmIhM/D5Hc7X4rz8HDPM/WDK+rjPfWx5cns7tn7456nW7F55v7w8/NDDWw4YMg7pGiXREg5eFSYEIYKF4na4MR3O1+MkBDzcGBlagvI6f1x79OtwBz3gGmlhbyLCjIIMd0RGE0q/F/zAiSEM35/erfBpgFMnJYGKuTdpd1lEFIaHlUipJlNbThf2zhxzwPjmZCKsR4xEsLpfjC92zIz1ttCy57V93c/tzB07IzX4KqFFBBinKMZ5v5b2+hVFw/3PlU/2BuCoaCCfWlV/VB//crS+o3H6teWJPL1x+pXl9YPr/COTXgVt0l+HPtx71PfD69Z2OSGFLf/qxNSCiekTDxsJySKG27QcMH4wQsaq8Nf2Or5KoPBnfFf/aT+dUpfj53k+hKPmSMxZmS0+FHFLfR/cEPK8PMLXvY1WwFOQIgRZtgQBw0BFX1NKmQw3H40tfmThJdo0DLK0SILKfZzUiwhJeNhIyECNmRBoy0VGWDIwIyQFiEqMU5OW8sJCCFm44yCjWY+s6r+Tl/9k6UeEqVRkZwWF5V3W1ERcPL84tAxGzkBIVR4zLRn40DExuP1z//RA+MuERVtaWFQScAJ+RDQE1I+HlYQ4v4GPTUwWxuc+HbnSw/2PO2z0cOyMepnU0zQIOchISqfqjh5GOZdx04NzFkRTEBIqWx4adXAhdnByXu7XvArWgkbVx73ppqBQSMhKmpOxrsf7H7WheT0gAVJFwgpDY8Zl43a4MnvwtCxon6gX8WGXWCk5qS3UcQfDTghH6CyCSHBw1hCTg3UYmxwaVWV2JBx8l6DE3HSddRNusiHCYQQ2K86arODE/+362dudsGW4/sahXjF2OA5+fyx+tUlHif7OE68pGv1vKmVCQgpFI8Zv+rw8fDiBpdWuXhcXVq/+0g12WA4ueu/W/9unyDpGu95uHt1VJmQD1zhhFDhYRQhbuiY23jSfxTXX8yN4zEareH6oeMO9fQtk5MomLBJV2+4HPyKWRkXCCkKj9rGKLOKVR2jsbSK6i0/ckiC4sTlxI0n+1axGdee1cFaMPkggpCi8VjDZlb7/OcLP13SEWlVW07cpOvaYyEkrRmXUZDoJ4QQDxMIkeLhRY8GHp2TVrXl5HobSMhrdxCizcGylQCP0cZTVTc6rOpICIkw42pCUqOt3UGILjxmTg/MivFAZtUWknjGFavdH+596v7wGtraXTMhtHhQEdJYtmq8ISjEA6GjLSdexrWCr90fkpYlICSvT3vPkkiWrYBHKgeR5Aj3ruJ4jw/JcRJIQEhOPGZnBycFbwjuAx6FQOJ2OAixiZBT6+YubvrI+xTHwRWtz1kBj6wOH+VawmZcPiTzXiQpFRKdhFDT4alMQsKVq50v/P1AX8uy1RUsW+WGJB5Mgr492OfWeL979YOpdRdBSHaVRshp73Hd1geuwtDRGc9ZleBwgasFkge7n10st2oHIZrwOODXHof76rce9aIH+fSqhu9yC1xervVMmUtbIEQTHsFb5p8srd8BHvp8x8+4ftVbH4kXJKWu/4KQtHjE1nYZPIL8CrWHdkiu8VV7CEkJS1vaCKFGI1ShhAAPGvO5VkskKRYSEJLCp9bNzW864ZeMK4AHMSTe0tbyy6++X/TSFghJHkC88uPerp/5a7v9wMMESILvTCm0IAEhCfHg8ivgYQIkfq61+MrR4goSEJIQj5Ns+eEO0pE+b9iwtluaJUtbD1xICqvaQUgSQmal5QfWdsuHhFna8guS37/224JyLRCSMIC8gPLDFIsKkh92/3TxlULCCAhpY3b9CniYYAaSRhgpYl0LhKgDyKwggKD8IHdUkDBhpIC3R0CIAg+uQEf5YY75gqSYkh2EqAIIW6Bj/coc8+taxZTsIEQVQO7tfLElvzqEZxNNsgvJZ0uYz5A0SvYaCBFLHyGzF1Ggm2/vMySNL8xuCSPaSnYQkjiAHEZ+ZZ6DXOvXXMnuvcuuJ4yAkIQBpA/5laEOSnY2jPy3rjACQgQBZG4jH0BWeIOBAGKgxWHkWV1hBIQIAsj8EAKIVRaEkR5dYQSEIIDYb0EY6b8/rKcaASEMITU/gPSzAeQ28DDbwcpvM4z0u2Hk8mu/ncodRkBI02cGLlzc+PE97/uv+tkAghTLcEvDyIc5wwgIiQeQ2YWh434A6UMAsc9RGBlthpH81QgIaSHk4qaP/jr6L01CjiCA2GMmjBz0EoHLr74PQlqUmZDWFGtlM8X68h9AiB0OnnX4leZEC4QoU6wrSLGssqhez5logRB5ioUa3ToznxvxE63f5Uu0QEiYYs15KdaLf29+DgQBxE5z9fr94efyJFogRJJioUa31Hy9ni/RAiHyFAs1uo1m6vXciRYIEaVYh5Fi2WytiRYI8QLI4tCx+oG+ZgB5DymWzQ4Srf9iEq3fZAsjICR8mJd9oxAplr0OEq1fM4nWB9me0QIhQRHycWsR0gdCLHZAyH/GP7/e//3wc5cyJVqdTkhQhHy386WWIgTPYtluF5Kr7DNaf/y332T4GpROJ0RchNxBEWK5+VLkQP8fvDVfEJKeEEERchMpluUWlSLZvkoLhIiKEBBiu5lSJHzON0ux3tF/6TMsQnb8nCtCqAcYzm+uFPl++PlL6T+X29GE+EXIUVERQj26cH4L3hXpzlCsdzohC0PHWlKsd4MihHp04fwWlSIZinUQAkIqahAiFAiBQ4MQodISMj90HIRU05oWfHUSYgIkKQmpcQ+994GQiljTgm/nEhIs9X7LLPVeeZx+aGFd9hZ8l7Ys+O5ak3bBt3MJwVJv9a1jwbejCUGZXnHrKNY1E0IOCQiBmwYhIARWGYSAEFhlMwmhhQSEwE2DEBACqwxCQAissrGEEEICQuCmQQgIgVUGISAEVtlkQqggASFw0yAEhMAqgxAQAqtsOCEkkKQn5J9BSGUtIKQPhKQi5KjfcTFCbuPp9wqZJ2Rs+R9fI336nRyS5ISc3TDj/ntjy+jf9jfCiOtjXfVbCCNVsTuOXzU+H+KnWH95c/jcy+HQg5D2PjVQmx2caJYibj8ewqdwq+JgED9eVj+4sr4/LEIuDR2dWjefHI9OJwTFepUdDKI7oCPGfNeJCZCAEDi0gd8GBEJgg2wRIWVCkokQLPhW0TqWekFI8HUnrQu++LqTaji+kJV1qbc8QkqDJBUh4gXf48GCL/5+iM0WLWT5S73TqZZ6O52Q6XDBd1K04AtCbLZoISvDUm+phJQDSYa/QbXgfXUvX4qAEJutqUwHIdFf+uznShEQYrMFf+kzS5leNiElQJKWEGkpgjBir5kiJEeZDkLkpciXIMRai4qQbGU6ASFFQ5KBEHEpAkLsteidkIVMZToIkZcit1GKWGvBV773/CFTikVDSKGQZCAkiLyfb9nHPgaPUsRGi98J2ZUtxSIjpDhIMhAyLSxFxlGK2GlBEZI9xQIh8kTrCBItO601xaIkpCBIshEiT7QAiVXWnWKBECbRmmLXfG+DEKssWufNk2IRE1IEJJkJYROt/QgjFlqYYqX8w4VmEaIdksyEnF3vJ1pbR/62/0n/dw/qddscfGzhZEuK9eW2nV6Ktf68xYTohSQzIYJEC/W6XQ4CyHs6UywQgkSrKmYCiKYUyxRCHH2Q5CGkNdFCvW6VRQEkf4plECGOJkjyEOIlWutqtY2TfhjpbYaR48sQRox2GECeYALI4isf5kyxQIg4jHzBhJFxP4x8BUJMtTiA7MgfQMwixNEBSU5CYmFkJRtGbiGMGGlBAOnTFUCMI8TJDUl+QsJqZAvCiCUuMoCYSIiTD5L8hARhZPYXfBjpQhgxzuIAslxXADGUECcHJFoIkYSRfm9IvgYhJrmwJSzTCXGyQqKFEFUYcWMIci1DHOAhCCB53yW0gxAnEyS6CPHDyPQXW99uhhF3DEaeRK5liqP8yg3vo80ActMLIGd1BRAQkiaMxHMthBFyBwEkeoy3JYBc1IWH6YQ46SHRSEjjvZG99YMrPKNkN8fCtwibASTjR0GsJMRJCYlGQlyfWX9+at0c+xwKSnZyCwLIiiICiB2EOGkg0UvItKxkP9HlJVrItajwuPuT+kRrgT7ec+ut7f4Sls4AYg0hTmJItBMSlex/5Ut2QEKIB1egnxqonVmvc+gtI8RJBol2QoIwcoEp2bGuRYUHs34V5lc9ReRX9hHiJICkCEKCwP2neMmOgoSKEH79KsyvNBfothLitIOkCEKmw5L9optrsetaJ5BrlYiHsPzYtr2g/MpWQgKVTEgMkhG2IAEkZeJRVvlhPSGOBJLiCJkO17WmBAUJICkZj0b5sTB0vKDyowqEOCJICiVEXJAAkqLxEFTnYX5VxPJupQhxOEgKJWS6kWv96Y299bFeAST4sG4RhAiq8263Oi86v6oIIU4rJEUT0gIJv7R1C0tbuvFw86tJpjovD4+KEBKoNEKm1UtbeDxeIx5f+3g0q/Nwbbc0PCpFiONDUg4hESSfbx1p/vGq6G1EQKILD/bh9pVfFr94VWVCXJVGyLS/tHX+F6fq+1cJ3mt3CfnmEfp5ZqkjPEZaF6/Gl88PnSh68arihJweOFMaIYLH4wNI3EF9v6f+0TIEkyx2C4+7PB5efnXzrR0lLF6BEJ0WV+2u337SX91ahiXgFI4Kjw+6w180rY+WTA3MlZlfgZCCIcH7JBnwmPBDx94nw5UPajxAiE5I/KWt3vqhZd6XmgKSzHhEocMAPECITkhOD8x+8u+H//zmsDeuwnfcUbsLHRQePB7jXfVD3bR4gBCdPrthZmLtwuS6+S/ekNTuH6N2b3VL4cHU5ctvvfUfn7z+ztn15wnxACH6HWZcqN0T4qEsPCbWLpa8cgVCSCFpZlyPdnrGJcusmu+aU2ZWIKQkSPwFLqZ2X+W9SfxBkHF15PduyTIr14fcwqPLKDxASLGQ+LX7O2zt3sy4/GDyv50UTL5xQ8cj4sxqzCs8Pt18iLzwACHlOazd186z77vzwaTynARsCEOH/+c+bm7bPrVu7qQBhQcIKdtuMJmMHgSOZ1xBMKk8Jy4b8bQqHjqCzGq8++a2HS4eRoUOEFI2JOJ3S6rNScCGm1O5t8azEWVWrx86Y1hmBUJIHGVcomBSMU7ibIxybDRDRyOz2mBWZgVCyBwEE7ceDYOJipMnrOQkyqn+p1vORo8bOq5uHjc5dIAQQnvB5NRAzeXkLx4n/WzSJeTkrtnrwnf9Z2rUbDQXrFw2LhgeOkAIuRuPqIRJ1xNu1iGOJx921492+582aaByh5oHHgw3oQraKWTDvTU3WlqSVoEQg+wnXbXPNo9d++WBP7+5u35AknftbUXlto/KN0S0BFQIwXhbnFPdfGv7Vf8erUirQIhpnnEjycTaRS/vet2vT4ScRKiMrPLSmGNd3tQsk5Z4uAgaoACjhY1DXk71r5cm185bFDpAiIFu1CchJ/3i1CtARUBLV5OWb/IxE0WJyMJwIQQjTKiWR2xMWJVTgRDzHXLy2eaD17bs91MvHxWeE54WdwYf7/KACX7BxyNMcn/lf0b8aHd4HtfH24WL+CLVtu1uNnV9y/4KsAFCTHaUes1d3dwupDC0yJhJYgaGuGVgeEHjiWAB1y2o/IRq0dKESmgQYriDkDIXhpQ3GiFlvKsNLTwzya0+Z0hFl5dNjS2/GQWNgYoEDcYgxAo3Qso6D5UbW/Z5a18BLe/8U1Jacpqhwm/G9V/uP125oMEYhNhlD5XJtQtNWraO+LTs8SZxSEvMWbDpD2GIThJSsYOjYqHCYEQGIfaaoWXMpeXGltHAKmwUdvO3sd4GDKMNB1TMdg4VcYOQitiduP70De1iMxUGmbfdKZ7UW0fciuL0QARD0x1FRdwgpMoOgkxKd1aIaGsQAsMqgxAYVhmEwLDKIASGVQYhMKwyCIFhlUEIDKsMQmBYZRACwyqDEBhWGYTAsMogBIZVBiEwrDIIgWGVq0bIxcH5y0O/X9x0CYa1+NLQ5f8HrWja4IpUFqsAAAAASUVORK5CYII=\" width=\"267\" height=\"267\"/>\n",
      "</g>\n",
      "</svg>\n",
      "\n",
      "----------------------------------------------------------------------------------------------------\n",
      "Filename: dfc035f2059824de452b90991c70f0c977a5f47f.svg\n",
      "SVG: <svg xmlns=\"http://www.w3.org/2000/svg\" xmlns:xlink=\"http://www.w3.org/1999/xlink\" width=\"15\" height=\"23\" viewBox=\"0 0 15 23\"><g><g transform=\"translate(-166 -538)\"><image width=\"15\" height=\"23\" transform=\"translate(166 538)\" xlink:href=\"data:image/png;base64,iVBORw0KGgoAAAANSUhEUgAAAA8AAAAXCAYAAADUUxW8AAAC6klEQVQ4T5WUTWhcVRiGn/fMZCbWmpkbQtJaNIVCxaLE+IetStB0EuN/wQqCCuLCUrHQ0lIoSJWCK5EiWNypuHPZotiJO3WjVqT4AxFEF0aIzczc1MY0M3NeuRMTWhtbejYHzv2e9+We9/uOuMxKeiovX7O2+73p6RPzq5Xp/9hy+eFBufW95MO1xuRbVwHvLCSl9EXw06ChXFf34Jkzx8/+V2BV53K58jhRwxL9wG6Zo7W56t4rwn19levbTe0VmsJsszwK9Ee4N02rpy4UuMQ5KY3vgrjRCj8qehRxN7BO8G0trWZCK+siuFQauyMnngd+BVJHRhD3ATPAPZZfaDQm31+mL4AniuWeeDD7EOT5KM3IcStozHhWqA/oIsRb6vXP0qxuBS6Xx54M8ICjpxw4p6gFi6dAt0r+kygjb0O8U29U96zASbL9RmLYZXkqWIWINwvdjBjGdCP/gTUHGBgO1sjs3MmvOs7lcmVHQEOGXswQsAE4a7RG+AagDfyNmUEaMP6ukVYr6i1Vdhq9jjWLvA5YyMBsN9ogvB50HpwHcoZ5wQDoDfX2jD9kfAhxv9GUiNOgIrBotH4J7ghm7gOdezInJH2g/mtHBxa7it2KrS0SRwxbgJ8Ms6BB4azLCsCaTNzE3fksD7f/Uqn0SCI3nyOE08Vi/HpxgVcQe3DH6TywacnVh/KF5rF2s+uAHR6zcjs6F5Yk20tq544i/5BvtT9sFtSvdm6flQ0Gx9XOHbFaCUFvA7db+Y2Nxie/reTcd93o5lbIHQTXUfi83W59UVB+k/Oco8V+y88CeaxH63MnP76oSZYiG3+C6BGJbPh/Bxl8WBAMCeLd5Qa5BIbXQlL6cr8U1kbiL7KeAd8EyiOn9UbtNjjVXKW3l46ykWw12Sf42YQ7hSeyiCLemqaT31x2JP/tuJEAD9rKcn1JcKCWVt+84mOwXJD9v6KPSUzX0updV/GGZaUTxaQnfkROr9brn55eDf4HNYYp84KnPTUAAAAASUVORK5CYII=\"/></g></g></svg>\n",
      "\n"
     ]
    }
   ],
   "source": [
    "import re\n",
    "\n",
    "def no_base64_image(example):\n",
    "    svg = example.get(\"Svg\", \"\")\n",
    "    # Look for <image ... xlink:href=\"data:image/...\" or href=\"data:image/...\"\n",
    "    return not re.search(r'(xlink:href|href)\\s*=\\s*[\"\\']data:image\\/', svg)\n",
    "\n",
    "subset_no_base64 = subset.filter(no_base64_image)\n",
    "subset_no_base64\n",
    "\n",
    "print(f\"{len(subset_no_base64)}/{len(subset)} images are free of base64 images\")\n",
    "\n",
    "# Print some examples that fail the check\n",
    "failed_examples = [ex for ex in subset if not no_base64_image(ex)]\n",
    "print(\"Examples with base64 images (showing up to 5):\")\n",
    "for ex in failed_examples[:5]:\n",
    "    print(\"-\"*100)\n",
    "    print(f\"Filename: {ex.get('Filename', 'N/A')}\")\n",
    "    print(f\"SVG: {ex.get('Svg', '')}\\n\")"
   ]
  }
 ],
 "metadata": {
  "kernelspec": {
   "display_name": ".venv",
   "language": "python",
   "name": "python3"
  },
  "language_info": {
   "codemirror_mode": {
    "name": "ipython",
    "version": 3
   },
   "file_extension": ".py",
   "mimetype": "text/x-python",
   "name": "python",
   "nbconvert_exporter": "python",
   "pygments_lexer": "ipython3",
   "version": "3.12.10"
  }
 },
 "nbformat": 4,
 "nbformat_minor": 2
}
